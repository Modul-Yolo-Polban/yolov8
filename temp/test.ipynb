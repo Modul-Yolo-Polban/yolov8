{
 "cells": [
  {
   "cell_type": "code",
   "execution_count": 8,
   "id": "3a8411e0-f24d-4974-b031-d8d93edb37f3",
   "metadata": {},
   "outputs": [
    {
     "name": "stdout",
     "output_type": "stream",
     "text": [
      "Ultralytics YOLOv8.0.157 🚀 Python-3.10.9 torch-2.0.1+cu117 CUDA:0 (Tesla T4, 15110MiB)\n",
      "Model summary (fused): 168 layers, 3005843 parameters, 0 gradients\n",
      "\n",
      "image 1/1 /home/bimad4/yolov8/test1.jpg: 640x480 2 faces, 36.5ms\n",
      "Speed: 3.0ms preprocess, 36.5ms inference, 2.0ms postprocess per image at shape (1, 3, 640, 480)\n",
      "Results saved to \u001b[1mruns/detect/predict5\u001b[0m\n",
      "1 label saved to runs/detect/predict5/labels\n"
     ]
    }
   ],
   "source": [
    "!yolo task=detect mode=predict model=./runs/detect/train2/weights/best.pt source='test1.jpg' save=True save_txt=True"
   ]
  },
  {
   "cell_type": "code",
   "execution_count": 11,
   "id": "398bcab3-3c0f-472e-b571-2729c6dc1eb7",
   "metadata": {},
   "outputs": [
    {
     "name": "stderr",
     "output_type": "stream",
     "text": [
      "[ WARN:0@245.665] global loadsave.cpp:248 findDecoder imread_('test1.jpg/0'): can't open/read file: check file path/integrity\n"
     ]
    },
    {
     "ename": "TypeError",
     "evalue": "'NoneType' object is not subscriptable",
     "output_type": "error",
     "traceback": [
      "\u001b[0;31m---------------------------------------------------------------------------\u001b[0m",
      "\u001b[0;31mTypeError\u001b[0m                                 Traceback (most recent call last)",
      "Cell \u001b[0;32mIn[11], line 19\u001b[0m\n\u001b[1;32m     16\u001b[0m x, y, w, h \u001b[38;5;241m=\u001b[39m \u001b[38;5;28mmap\u001b[39m(\u001b[38;5;28mfloat\u001b[39m, parts[\u001b[38;5;241m1\u001b[39m:\u001b[38;5;241m5\u001b[39m])\n\u001b[1;32m     18\u001b[0m image \u001b[38;5;241m=\u001b[39m cv2\u001b[38;5;241m.\u001b[39mimread(image_path)\n\u001b[0;32m---> 19\u001b[0m cropped_image \u001b[38;5;241m=\u001b[39m \u001b[43mimage\u001b[49m\u001b[43m[\u001b[49m\u001b[43my\u001b[49m\u001b[43m:\u001b[49m\u001b[43my\u001b[49m\u001b[38;5;241;43m+\u001b[39;49m\u001b[43mh\u001b[49m\u001b[43m,\u001b[49m\u001b[43m \u001b[49m\u001b[43mx\u001b[49m\u001b[43m:\u001b[49m\u001b[43mx\u001b[49m\u001b[38;5;241;43m+\u001b[39;49m\u001b[43mw\u001b[49m\u001b[43m]\u001b[49m\n\u001b[1;32m     21\u001b[0m output_path \u001b[38;5;241m=\u001b[39m os\u001b[38;5;241m.\u001b[39mpath\u001b[38;5;241m.\u001b[39mjoin(output_dir, os\u001b[38;5;241m.\u001b[39mpath\u001b[38;5;241m.\u001b[39mbasename(image_path))\n\u001b[1;32m     22\u001b[0m cv2\u001b[38;5;241m.\u001b[39mimwrite(output_path, cropped_image)\n",
      "\u001b[0;31mTypeError\u001b[0m: 'NoneType' object is not subscriptable"
     ]
    }
   ],
   "source": [
    "import os\n",
    "import cv2\n",
    "\n",
    "image_dir = \"test1.jpg\"\n",
    "label_file = \"runs/detect/predict5/labels/test1.txt\"\n",
    "output_dir = \"cropped/images\"\n",
    "\n",
    "# Baca label.txt\n",
    "with open(label_file, \"r\") as f:\n",
    "    lines = f.readlines()\n",
    "\n",
    "# Loop melalui setiap baris di label.txt\n",
    "for line in lines:\n",
    "    parts = line.strip().split()\n",
    "    image_path = os.path.join(image_dir, parts[0])\n",
    "    x, y, w, h = map(float, parts[1:5])\n",
    "\n",
    "    image = cv2.imread(image_path)\n",
    "    cropped_image = image[y:y+h, x:x+w]\n",
    "\n",
    "    output_path = os.path.join(output_dir, os.path.basename(image_path))\n",
    "    cv2.imwrite(output_path, cropped_image)\n",
    "\n",
    "    print(f\"Cropped image saved at {output_path}\")\n"
   ]
  }
 ],
 "metadata": {
  "kernelspec": {
   "display_name": "Python 3 (ipykernel)",
   "language": "python",
   "name": "python3"
  },
  "language_info": {
   "codemirror_mode": {
    "name": "ipython",
    "version": 3
   },
   "file_extension": ".py",
   "mimetype": "text/x-python",
   "name": "python",
   "nbconvert_exporter": "python",
   "pygments_lexer": "ipython3",
   "version": "3.10.9"
  }
 },
 "nbformat": 4,
 "nbformat_minor": 5
}
